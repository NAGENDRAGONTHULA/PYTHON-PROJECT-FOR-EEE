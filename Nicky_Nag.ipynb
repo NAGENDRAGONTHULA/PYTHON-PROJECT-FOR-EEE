{
  "cells": [
    {
      "cell_type": "code",
      "execution_count": null,
      "metadata": {
        "colab": {
          "base_uri": "https://localhost:8080/"
        },
        "id": "G92GKXxQrGGu",
        "outputId": "d8174436-11a8-43b6-ba5a-c04e59c20cdc"
      },
      "outputs": [
        {
          "name": "stdout",
          "output_type": "stream",
          "text": [
            "enter a number:11\n",
            "enter b number:55\n",
            "squares: [0, 1, 4, 9, 16, 25, 36, 49, 64, 81]\n"
          ]
        }
      ],
      "source": [
        "a=int(input(\"enter a number:\"))\n",
        "b=int(input(\"enter b number:\"))\n",
        "squares=(x**2 for x in range(10))\n",
        "print(\"squares:\", list(squares))"
      ]
    },
    {
      "cell_type": "code",
      "execution_count": null,
      "metadata": {
        "id": "Pq-1uHl4sJgW"
      },
      "outputs": [],
      "source": [
        "def greet(name):\n",
        "  print(\"hello\",name)\n",
        "  greet(\"alice\")"
      ]
    },
    {
      "cell_type": "code",
      "execution_count": null,
      "metadata": {
        "colab": {
          "base_uri": "https://localhost:8080/"
        },
        "id": "oTFvWq5-N1Ef",
        "outputId": "c059be09-0736-4f3f-c489-4a773d509d89"
      },
      "outputs": [
        {
          "name": "stdout",
          "output_type": "stream",
          "text": [
            "enter a number:5\n",
            "8is even\n"
          ]
        }
      ],
      "source": [
        "a=int(input(\"enter a number:\"))\n",
        "if num%2==0:\n",
        "    print(f\"{num}is even\")\n",
        "else:\n",
        "      print(f\"{num}is odd\")\n"
      ]
    },
    {
      "cell_type": "code",
      "execution_count": null,
      "metadata": {
        "colab": {
          "base_uri": "https://localhost:8080/"
        },
        "id": "zxVWClwLQNkM",
        "outputId": "730e6a55-9eeb-47aa-9c15-c93f4b815f63"
      },
      "outputs": [
        {
          "name": "stdout",
          "output_type": "stream",
          "text": [
            "color: red\n",
            "color: green\n",
            "color: blue\n"
          ]
        }
      ],
      "source": [
        "colors=[\"red\",\"green\",\"blue\"]\n",
        "for color in colors:\n",
        "  print(\"color:\",color)"
      ]
    },
    {
      "cell_type": "code",
      "execution_count": null,
      "metadata": {
        "colab": {
          "base_uri": "https://localhost:8080/"
        },
        "id": "0lIn8SkJRpQI",
        "outputId": "2ce07a03-7ac1-424e-a672-7b4e582d9f8c"
      },
      "outputs": [
        {
          "name": "stdout",
          "output_type": "stream",
          "text": [
            "person tuple: ('john', 25, 'usa')\n"
          ]
        }
      ],
      "source": [
        "person=(\"john\",25,\"usa\")\n",
        "print(\"person tuple:\",person)"
      ]
    },
    {
      "cell_type": "code",
      "execution_count": null,
      "metadata": {
        "id": "5Ex3jE4NTDff",
        "colab": {
          "base_uri": "https://localhost:8080/"
        },
        "outputId": "7c778013-5a1a-47e1-e227-ceb492723ac9"
      },
      "outputs": [
        {
          "output_type": "stream",
          "name": "stdout",
          "text": [
            "name: nagi, total: 250, average: 83.33\n",
            "name: deva, total: 240, average: 80.00\n",
            "name: raghu, total: 210, average: 70.00\n"
          ]
        }
      ],
      "source": [
        "name=[\"nagi\",\"deva\",\"raghu\"]\n",
        "marks=[(80,90,80),(90,70,80),(80,60,70)]\n",
        "\n",
        "def total_and_avg(scores):\n",
        "  total = sum(scores)\n",
        "  avg = total / len(scores)\n",
        "  return total, avg\n",
        "\n",
        "for i in range(len(name)):\n",
        "  total, avg = total_and_avg(marks[i])\n",
        "  print(f\"name: {name[i]}, total: {total}, average: {avg:.2f}\")"
      ]
    },
    {
      "cell_type": "code",
      "execution_count": null,
      "metadata": {
        "colab": {
          "base_uri": "https://localhost:8080/"
        },
        "id": "OIuL6_LWTyrw",
        "outputId": "ab34c799-f165-4d70-c495-8362485f7a54"
      },
      "outputs": [
        {
          "output_type": "stream",
          "name": "stdout",
          "text": [
            "first element: raghu\n",
            "last element: nagi\n"
          ]
        }
      ],
      "source": [
        "name=[\"raghu\",\"nagi\",\"deva\"]\n",
        "print(\"first element:\",name[0])\n",
        "print(\"last element:\",name[-2])\n",
        "\n"
      ]
    },
    {
      "cell_type": "code",
      "execution_count": null,
      "metadata": {
        "colab": {
          "base_uri": "https://localhost:8080/"
        },
        "id": "8DbA4LReUZLt",
        "outputId": "0faf43e5-43e1-4144-d17b-356504bd6f1c"
      },
      "outputs": [
        {
          "output_type": "stream",
          "name": "stdout",
          "text": [
            "hello vishnu\n"
          ]
        }
      ],
      "source": [
        "def deva(name):\n",
        " print(\"hello\",name)\n",
        "deva(\"vishnu\")"
      ]
    },
    {
      "cell_type": "code",
      "execution_count": null,
      "metadata": {
        "colab": {
          "base_uri": "https://localhost:8080/"
        },
        "id": "YuPPk-iUWBQM",
        "outputId": "8a1c392b-03fd-489d-8787-99fe93e08752"
      },
      "outputs": [
        {
          "output_type": "stream",
          "name": "stdout",
          "text": [
            "sum is: 11\n"
          ]
        }
      ],
      "source": [
        "def add(a,b):\n",
        "  return a+b\n",
        "result=add(5,6)\n",
        "print(\"sum is:\",result)"
      ]
    },
    {
      "cell_type": "code",
      "execution_count": null,
      "metadata": {
        "colab": {
          "base_uri": "https://localhost:8080/"
        },
        "id": "pGxtTduyW6GV",
        "outputId": "199db363-62d3-4d54-a02d-677b0ec74bc1"
      },
      "outputs": [
        {
          "output_type": "stream",
          "name": "stdout",
          "text": [
            "mult is: 2700\n"
          ]
        }
      ],
      "source": [
        "def nagi(d,r):\n",
        "  return d*r\n",
        "result=nagi(45,60)\n",
        "print(\"mult is:\",result)\n",
        "\n",
        "\n"
      ]
    },
    {
      "cell_type": "code",
      "execution_count": null,
      "metadata": {
        "colab": {
          "base_uri": "https://localhost:8080/"
        },
        "id": "4nU983RLYrEL",
        "outputId": "03857652-5a29-453e-b11b-2b1809d43890"
      },
      "outputs": [
        {
          "output_type": "stream",
          "name": "stdout",
          "text": [
            "power: 1150 watts\n"
          ]
        }
      ],
      "source": [
        "v=230\n",
        "i=5\n",
        "p=v*i\n",
        "print(\"power:\",p,\"watts\")"
      ]
    },
    {
      "cell_type": "code",
      "execution_count": null,
      "metadata": {
        "colab": {
          "base_uri": "https://localhost:8080/"
        },
        "id": "2Vmo6z_uZr3o",
        "outputId": "a723898a-fa20-4083-e2dd-367fa82aac07"
      },
      "outputs": [
        {
          "output_type": "stream",
          "name": "stdout",
          "text": [
            "total resistance in series: 20 ohms\n"
          ]
        }
      ],
      "source": [
        "resistors=[4,6,10]\n",
        "total_resistance=sum(resistors)\n",
        "print(\"total resistance in series:\",total_resistance,\"ohms\")"
      ]
    },
    {
      "cell_type": "code",
      "execution_count": null,
      "metadata": {
        "colab": {
          "base_uri": "https://localhost:8080/"
        },
        "id": "ZW92m3mGbsS8",
        "outputId": "e927046b-cd00-4f54-9502-3331d1ed75f4"
      },
      "outputs": [
        {
          "output_type": "stream",
          "name": "stdout",
          "text": [
            "voltage: 10 v\n"
          ]
        }
      ],
      "source": [
        "def ohms_law(voltage=None,current=None,resistance=None):\n",
        "  if voltage is None:\n",
        "    return current*resistance\n",
        "  elif current is None:\n",
        "    return voltage/resistance\n",
        "  elif resistance is None:\n",
        "    return voltage/current\n",
        "v=ohms_law(current=2,resistance=5)\n",
        "print(\"voltage:\",v,\"v\")"
      ]
    },
    {
      "cell_type": "code",
      "execution_count": null,
      "metadata": {
        "colab": {
          "base_uri": "https://localhost:8080/"
        },
        "id": "7_E1uSwvfSZJ",
        "outputId": "c0fdab79-ba79-4f83-b31e-2777b630fad2"
      },
      "outputs": [
        {
          "name": "stdout",
          "output_type": "stream",
          "text": [
            "concrete voume: 0.75 m***3\n"
          ]
        }
      ],
      "source": [
        "def volume_cuboid(length,width,height):\n",
        "  return length*width*height\n",
        "length=0.5#meters\n",
        "width=0.5\n",
        "height=3\n",
        "volume=volume_cuboid(length,width,height)\n",
        "print(\"concrete voume:\",volume,\"m***3\")\n"
      ]
    },
    {
      "cell_type": "code",
      "execution_count": null,
      "metadata": {
        "colab": {
          "base_uri": "https://localhost:8080/"
        },
        "id": "g18S2ceXfYSI",
        "outputId": "2cac7c91-64b3-4bb0-8ad9-03f2c5d2d30b"
      },
      "outputs": [
        {
          "name": "stdout",
          "output_type": "stream",
          "text": [
            "area of circle: 78.53981633974483 cm**2\n"
          ]
        }
      ],
      "source": [
        "import math\n",
        "radius=5\n",
        "area=math.pi*radius**2\n",
        "print(\"area of circle:\",area,\"cm**2\")"
      ]
    },
    {
      "cell_type": "code",
      "execution_count": null,
      "metadata": {
        "colab": {
          "base_uri": "https://localhost:8080/"
        },
        "id": "FPHz2T7ygsfH",
        "outputId": "92624de0-33dc-4b13-a6eb-b5382f01a814"
      },
      "outputs": [
        {
          "name": "stdout",
          "output_type": "stream",
          "text": [
            "enter anumber:6\n",
            "6*1=6\n",
            "6*2=12\n",
            "6*3=18\n",
            "6*4=24\n",
            "6*5=30\n",
            "6*6=36\n",
            "6*7=42\n",
            "6*8=48\n",
            "6*9=54\n",
            "6*10=60\n",
            "6*11=66\n",
            "6*12=72\n",
            "6*13=78\n",
            "6*14=84\n",
            "6*15=90\n",
            "6*16=96\n",
            "6*17=102\n",
            "6*18=108\n",
            "6*19=114\n",
            "6*20=120\n",
            "6*21=126\n",
            "6*22=132\n",
            "6*23=138\n",
            "6*24=144\n",
            "6*25=150\n",
            "6*26=156\n"
          ]
        }
      ],
      "source": [
        "num=int(input(\"enter anumber:\"))\n",
        "for i in range(1,27):\n",
        "  print(f\"{num}*{i}={num*i}\")"
      ]
    },
    {
      "cell_type": "code",
      "execution_count": null,
      "metadata": {
        "colab": {
          "base_uri": "https://localhost:8080/"
        },
        "id": "SClOY-MhhYpv",
        "outputId": "f5233988-d960-4104-b9b4-8ba27b368bf8"
      },
      "outputs": [
        {
          "name": "stdout",
          "output_type": "stream",
          "text": [
            "kinetic energy: 200000.0 jolues\n"
          ]
        }
      ],
      "source": [
        "mass=1000\n",
        "velocity=20\n",
        "ke=0.5*mass*velocity**2\n",
        "print(\"kinetic energy:\",ke,\"jolues\")"
      ]
    },
    {
      "cell_type": "code",
      "execution_count": null,
      "metadata": {
        "colab": {
          "base_uri": "https://localhost:8080/"
        },
        "id": "MljsgaNjjwWH",
        "outputId": "792fe1fe-0e06-47e7-9dea-b190b36c5c2d"
      },
      "outputs": [
        {
          "name": "stdout",
          "output_type": "stream",
          "text": [
            "enter a number:5\n",
            "True\n",
            "False\n"
          ]
        }
      ],
      "source": [
        "n=int(input(\"enter a number:\"))\n",
        "a=[1,2]\n",
        "b=[1,2]\n",
        "c=print(a==b)\n",
        "print(a is b)"
      ]
    },
    {
      "cell_type": "code",
      "execution_count": null,
      "metadata": {
        "id": "jahpbceGkMtC"
      },
      "outputs": [],
      "source": [
        "def greet(raghu):\n",
        "  print(f\"hello,{raghu}\")\n",
        "  greet(\"deva\")"
      ]
    },
    {
      "cell_type": "code",
      "execution_count": null,
      "metadata": {
        "colab": {
          "base_uri": "https://localhost:8080/"
        },
        "id": "A7Xc4zZYlOc7",
        "outputId": "5cd6c16f-9856-451c-8362-f57b1b015e01"
      },
      "outputs": [
        {
          "name": "stdout",
          "output_type": "stream",
          "text": [
            "Kinetic Energy : 0.5 Joules\n"
          ]
        }
      ],
      "source": [
        "mass=1000\n",
        "velocity=20\n",
        "ke=0.5\n",
        "print(\"Kinetic Energy :\",ke,\"Joules\")"
      ]
    },
    {
      "cell_type": "code",
      "execution_count": null,
      "metadata": {
        "colab": {
          "base_uri": "https://localhost:8080/"
        },
        "id": "Epn8__L7mSaT",
        "outputId": "aa41b341-8768-4251-d613-a7a5656a28f0"
      },
      "outputs": [
        {
          "name": "stdout",
          "output_type": "stream",
          "text": [
            "temperature in fahrenheist: 77.0\n"
          ]
        }
      ],
      "source": [
        "def celsius_to_faherenheit(c):\n",
        "  return(c*9/5)+32\n",
        "temp_c=25\n",
        "print(\"temperature in fahrenheist:\",celsius_to_faherenheit(temp_c))"
      ]
    },
    {
      "cell_type": "code",
      "execution_count": null,
      "metadata": {
        "colab": {
          "base_uri": "https://localhost:8080/"
        },
        "id": "qdw_mneloI9X",
        "outputId": "4270edd8-a7c7-4094-b640-c2a2403fceb9"
      },
      "outputs": [
        {
          "name": "stdout",
          "output_type": "stream",
          "text": [
            "efficiency= 80.0 %\n"
          ]
        }
      ],
      "source": [
        "op=800\n",
        "ip=1000\n",
        "efficiency=(op/ip)*100\n",
        "print(\"efficiency=\",efficiency,\"%\")"
      ]
    },
    {
      "cell_type": "code",
      "execution_count": null,
      "metadata": {
        "colab": {
          "base_uri": "https://localhost:8080/"
        },
        "id": "6bq2otjxqllL",
        "outputId": "857d9dee-6d51-46ec-88fb-6c7d861abccc"
      },
      "outputs": [
        {
          "name": "stdout",
          "output_type": "stream",
          "text": [
            "displacement: -4.0 m\n"
          ]
        }
      ],
      "source": [
        "import math\n",
        "a=4\n",
        "omega=2*math.pi\n",
        "t=0.5\n",
        "x=a*math.cos(omega*t)\n",
        "print(\"displacement:\",x,\"m\")"
      ]
    },
    {
      "cell_type": "code",
      "execution_count": null,
      "metadata": {
        "colab": {
          "base_uri": "https://localhost:8080/"
        },
        "id": "76d2WXwScx09",
        "outputId": "65e1eb04-f9df-4aee-b6e7-900e9f388373"
      },
      "outputs": [
        {
          "name": "stdout",
          "output_type": "stream",
          "text": [
            "PYTHON IS EASY\n",
            "y\n",
            "t\n"
          ]
        }
      ],
      "source": [
        "text=\"python is easy\"\n",
        "print(text.upper())\n",
        "print(text[1])\n",
        "print(text[2])"
      ]
    },
    {
      "cell_type": "code",
      "execution_count": null,
      "metadata": {
        "colab": {
          "base_uri": "https://localhost:8080/"
        },
        "id": "uOVcnqwmsewy",
        "outputId": "8a643ad5-10bd-4823-fec2-04d9440fc552"
      },
      "outputs": [
        {
          "name": "stdout",
          "output_type": "stream",
          "text": [
            "{1, 2, 3}\n",
            "10\n"
          ]
        }
      ],
      "source": [
        "#lists:\n",
        "fruits=[\"apple\",\"banana\",\"cherry\"]\n",
        "fruits.append(\"apple\")\n",
        "#set:\n",
        "numbers={1,2,3,3}\n",
        "print(numbers)#duplicates removed\n",
        "#tuple:\n",
        "dimensions=(10,20,30)\n",
        "print(dimensions[0])\n"
      ]
    },
    {
      "cell_type": "code",
      "execution_count": null,
      "metadata": {
        "colab": {
          "base_uri": "https://localhost:8080/"
        },
        "id": "8brYEhRI18Mg",
        "outputId": "6ad2743e-bf06-4359-ecdc-259d5cfd85d0"
      },
      "outputs": [
        {
          "name": "stdout",
          "output_type": "stream",
          "text": [
            "bob\n",
            "{'name': 'bob', 'age': 20, 'marks': 74}\n"
          ]
        }
      ],
      "source": [
        "#dictionaries:\n",
        "person={\"name\":\"bob\",\"age\":20,\"marks\":95}\n",
        "print(person[\"name\"])\n",
        "person[\"marks\"]=74\n",
        "print(person)"
      ]
    },
    {
      "cell_type": "code",
      "execution_count": null,
      "metadata": {
        "colab": {
          "base_uri": "https://localhost:8080/"
        },
        "id": "M1iSjgPt4aYe",
        "outputId": "cb327d07-011f-43b3-c05c-79834eced9fc"
      },
      "outputs": [
        {
          "name": "stdout",
          "output_type": "stream",
          "text": [
            "enter marks896\n",
            "grade a\n"
          ]
        }
      ],
      "source": [
        "marks=int(input(\"enter marks\"))\n",
        "if marks>=90:\n",
        "  print(\"grade a\")\n",
        "elif marks>=60:\n",
        "  print(\"grade b\")\n",
        "else:\n",
        "  print(\"grade c\")"
      ]
    },
    {
      "cell_type": "code",
      "execution_count": null,
      "metadata": {
        "colab": {
          "base_uri": "https://localhost:8080/"
        },
        "id": "ovbfvk3EWp47",
        "outputId": "5e3bcf5e-1454-4874-e8a5-133e91ed08e8"
      },
      "outputs": [
        {
          "name": "stdout",
          "output_type": "stream",
          "text": [
            "torque: 59.4 N.m\n"
          ]
        }
      ],
      "source": [
        "def torque(force,radius):\n",
        "  return force*radius\n",
        "print(\"torque:\",torque(66,0.9),\"N.m\")"
      ]
    },
    {
      "cell_type": "code",
      "execution_count": null,
      "metadata": {
        "colab": {
          "base_uri": "https://localhost:8080/"
        },
        "id": "9Uh-cAYiZk6N",
        "outputId": "d87d7a32-7de1-4597-f5f9-edade6221a66"
      },
      "outputs": [
        {
          "name": "stdout",
          "output_type": "stream",
          "text": [
            "your otp is: 131595\n",
            "enter otp:158665\n",
            "try again later\n"
          ]
        }
      ],
      "source": [
        "import random\n",
        "otp=random.randint(100000,999999)\n",
        "print(\"your otp is:\",otp)\n",
        "entered_otp=int(input(\"enter otp:\"))\n",
        "if entered_otp==otp:\n",
        "  print(\"your otp is success\")\n",
        "else:\n",
        "  print(\"otp is invalid try again later\")"
      ]
    },
    {
      "cell_type": "code",
      "execution_count": null,
      "metadata": {
        "colab": {
          "base_uri": "https://localhost:8080/"
        },
        "id": "LPrHVcTEatuN",
        "outputId": "b181942d-85d8-4bee-87bf-bb9adee1e5b3"
      },
      "outputs": [
        {
          "name": "stdout",
          "output_type": "stream",
          "text": [
            "machine: lathe\n",
            "power: 5.5 kw\n"
          ]
        }
      ],
      "source": [
        "machine={\"name\":\"lathe\",\"power\":5.5,\"unit\":\"kw\"}\n",
        "print(\"machine:\",machine[\"name\"])\n",
        "print(\"power:\",machine[\"power\"],machine[\"unit\"])"
      ]
    },
    {
      "cell_type": "code",
      "execution_count": null,
      "metadata": {
        "colab": {
          "base_uri": "https://localhost:8080/"
        },
        "id": "sGvnjDLl5hdQ",
        "outputId": "e167a8c0-04c9-4a54-8e1b-af264e972fb0"
      },
      "outputs": [
        {
          "name": "stdout",
          "output_type": "stream",
          "text": [
            "PYTHON IS FUN\n",
            "p\n",
            "t\n"
          ]
        }
      ],
      "source": [
        "text=\"python is fun\"\n",
        "print(text.upper())\n",
        "print(text[0]) # Access the first character\n",
        "print(text[2]) # Access the third character"
      ]
    },
    {
      "cell_type": "code",
      "execution_count": null,
      "metadata": {
        "colab": {
          "base_uri": "https://localhost:8080/"
        },
        "id": "6Rr6XS2IdRxM",
        "outputId": "30e55946-288f-41d0-dbac-f855abd783f1"
      },
      "outputs": [
        {
          "name": "stdout",
          "output_type": "stream",
          "text": [
            "545\n"
          ]
        }
      ],
      "source": [
        "#tuples\n",
        "telivision=[22,545,44]\n",
        "print(telivision[1])"
      ]
    },
    {
      "cell_type": "code",
      "execution_count": null,
      "metadata": {
        "colab": {
          "base_uri": "https://localhost:8080/"
        },
        "id": "i6T7BsD5eRu8",
        "outputId": "6a94356d-f718-4495-aa87-dba4c4cbef7c"
      },
      "outputs": [
        {
          "name": "stdout",
          "output_type": "stream",
          "text": [
            "{88, 589, 55}\n"
          ]
        }
      ],
      "source": [
        "#sets\n",
        "python={88,55,589,55,88}\n",
        "print(python)"
      ]
    },
    {
      "cell_type": "code",
      "execution_count": null,
      "metadata": {
        "colab": {
          "base_uri": "https://localhost:8080/"
        },
        "id": "vNpMBdXfexgL",
        "outputId": "9bb59762-1e7a-4155-efc3-7afdcdf33256"
      },
      "outputs": [
        {
          "name": "stdout",
          "output_type": "stream",
          "text": [
            "[855, 485, 485]\n"
          ]
        }
      ],
      "source": [
        "#lists\n",
        "market=[855,485,584]\n",
        "market.append(485)\n",
        "market.remove(584)\n",
        "print(market)"
      ]
    },
    {
      "cell_type": "code",
      "execution_count": null,
      "metadata": {
        "colab": {
          "base_uri": "https://localhost:8080/"
        },
        "collapsed": true,
        "id": "0Ect9YLvfHGd",
        "outputId": "a6086d09-d31f-4060-ad02-e8d5182db7ec"
      },
      "outputs": [
        {
          "name": "stdout",
          "output_type": "stream",
          "text": [
            "1*1=1\n",
            "1*2=2\n",
            "1*3=3\n",
            "1*4=4\n",
            "1*5=5\n",
            "1*6=6\n",
            "1*7=7\n",
            "1*8=8\n",
            "1*9=9\n",
            "1*10=10\n",
            "1*11=11\n",
            "1*12=12\n",
            "1*13=13\n",
            "1*14=14\n",
            "1*15=15\n",
            "1*16=16\n",
            "1*17=17\n",
            "1*18=18\n",
            "1*19=19\n",
            "1*20=20\n",
            "1*21=21\n",
            "1*22=22\n",
            "2*1=2\n",
            "2*2=4\n",
            "2*3=6\n",
            "2*4=8\n",
            "2*5=10\n",
            "2*6=12\n",
            "2*7=14\n",
            "2*8=16\n",
            "2*9=18\n",
            "2*10=20\n",
            "2*11=22\n",
            "2*12=24\n",
            "2*13=26\n",
            "2*14=28\n",
            "2*15=30\n",
            "2*16=32\n",
            "2*17=34\n",
            "2*18=36\n",
            "2*19=38\n",
            "2*20=40\n",
            "2*21=42\n",
            "2*22=44\n",
            "3*1=3\n",
            "3*2=6\n",
            "3*3=9\n",
            "3*4=12\n",
            "3*5=15\n",
            "3*6=18\n",
            "3*7=21\n",
            "3*8=24\n",
            "3*9=27\n",
            "3*10=30\n",
            "3*11=33\n",
            "3*12=36\n",
            "3*13=39\n",
            "3*14=42\n",
            "3*15=45\n",
            "3*16=48\n",
            "3*17=51\n",
            "3*18=54\n",
            "3*19=57\n",
            "3*20=60\n",
            "3*21=63\n",
            "3*22=66\n",
            "4*1=4\n",
            "4*2=8\n",
            "4*3=12\n",
            "4*4=16\n",
            "4*5=20\n",
            "4*6=24\n",
            "4*7=28\n",
            "4*8=32\n",
            "4*9=36\n",
            "4*10=40\n",
            "4*11=44\n",
            "4*12=48\n",
            "4*13=52\n",
            "4*14=56\n",
            "4*15=60\n",
            "4*16=64\n",
            "4*17=68\n",
            "4*18=72\n",
            "4*19=76\n",
            "4*20=80\n",
            "4*21=84\n",
            "4*22=88\n",
            "5*1=5\n",
            "5*2=10\n",
            "5*3=15\n",
            "5*4=20\n",
            "5*5=25\n",
            "5*6=30\n",
            "5*7=35\n",
            "5*8=40\n",
            "5*9=45\n",
            "5*10=50\n",
            "5*11=55\n",
            "5*12=60\n",
            "5*13=65\n",
            "5*14=70\n",
            "5*15=75\n",
            "5*16=80\n",
            "5*17=85\n",
            "5*18=90\n",
            "5*19=95\n",
            "5*20=100\n",
            "5*21=105\n",
            "5*22=110\n",
            "6*1=6\n",
            "6*2=12\n",
            "6*3=18\n",
            "6*4=24\n",
            "6*5=30\n",
            "6*6=36\n",
            "6*7=42\n",
            "6*8=48\n",
            "6*9=54\n",
            "6*10=60\n",
            "6*11=66\n",
            "6*12=72\n",
            "6*13=78\n",
            "6*14=84\n",
            "6*15=90\n",
            "6*16=96\n",
            "6*17=102\n",
            "6*18=108\n",
            "6*19=114\n",
            "6*20=120\n",
            "6*21=126\n",
            "6*22=132\n",
            "7*1=7\n",
            "7*2=14\n",
            "7*3=21\n",
            "7*4=28\n",
            "7*5=35\n",
            "7*6=42\n",
            "7*7=49\n",
            "7*8=56\n",
            "7*9=63\n",
            "7*10=70\n",
            "7*11=77\n",
            "7*12=84\n",
            "7*13=91\n",
            "7*14=98\n",
            "7*15=105\n",
            "7*16=112\n",
            "7*17=119\n",
            "7*18=126\n",
            "7*19=133\n",
            "7*20=140\n",
            "7*21=147\n",
            "7*22=154\n",
            "8*1=8\n",
            "8*2=16\n",
            "8*3=24\n",
            "8*4=32\n",
            "8*5=40\n",
            "8*6=48\n",
            "8*7=56\n",
            "8*8=64\n",
            "8*9=72\n",
            "8*10=80\n",
            "8*11=88\n",
            "8*12=96\n",
            "8*13=104\n",
            "8*14=112\n",
            "8*15=120\n",
            "8*16=128\n",
            "8*17=136\n",
            "8*18=144\n",
            "8*19=152\n",
            "8*20=160\n",
            "8*21=168\n",
            "8*22=176\n",
            "9*1=9\n",
            "9*2=18\n",
            "9*3=27\n",
            "9*4=36\n",
            "9*5=45\n",
            "9*6=54\n",
            "9*7=63\n",
            "9*8=72\n",
            "9*9=81\n",
            "9*10=90\n",
            "9*11=99\n",
            "9*12=108\n",
            "9*13=117\n",
            "9*14=126\n",
            "9*15=135\n",
            "9*16=144\n",
            "9*17=153\n",
            "9*18=162\n",
            "9*19=171\n",
            "9*20=180\n",
            "9*21=189\n",
            "9*22=198\n",
            "10*1=10\n",
            "10*2=20\n",
            "10*3=30\n",
            "10*4=40\n",
            "10*5=50\n",
            "10*6=60\n",
            "10*7=70\n",
            "10*8=80\n",
            "10*9=90\n",
            "10*10=100\n",
            "10*11=110\n",
            "10*12=120\n",
            "10*13=130\n",
            "10*14=140\n",
            "10*15=150\n",
            "10*16=160\n",
            "10*17=170\n",
            "10*18=180\n",
            "10*19=190\n",
            "10*20=200\n",
            "10*21=210\n",
            "10*22=220\n"
          ]
        }
      ],
      "source": [
        "for i in  range(1,11):\n",
        "  for j in range(1,23):\n",
        "    print(f\"{i}*{j}={i*j}\")"
      ]
    },
    {
      "cell_type": "code",
      "execution_count": null,
      "metadata": {
        "colab": {
          "base_uri": "https://localhost:8080/"
        },
        "id": "IuEjW4nUfgr8",
        "outputId": "116680df-3faa-4d93-8ebf-1e7c755f0396"
      },
      "outputs": [
        {
          "name": "stdout",
          "output_type": "stream",
          "text": [
            "power for 230v and5A:1150watts\n",
            "power for 120v and10A:1200watts\n",
            "power for 12v and0.5A:6.0watts\n"
          ]
        }
      ],
      "source": [
        "voltages=[230,120,12]\n",
        "currents=[5,10,0.5]\n",
        "for v,i in zip(voltages,currents):\n",
        "  power=v*i\n",
        "  print(f\"power for {v}v and{i}A:{power}watts\")"
      ]
    },
    {
      "cell_type": "code",
      "execution_count": null,
      "metadata": {
        "colab": {
          "base_uri": "https://localhost:8080/"
        },
        "id": "8aNihd78gqht",
        "outputId": "e948052a-b6d2-480c-8666-b42d434f7391"
      },
      "outputs": [
        {
          "name": "stdout",
          "output_type": "stream",
          "text": [
            "unique components: {'resistors', 'inductors', 'capacitors'}\n"
          ]
        }
      ],
      "source": [
        "#using components\n",
        "components={\"resistors\",\"capacitors\",\"inductors\"}\n",
        "print(\"unique components:\",components)"
      ]
    },
    {
      "cell_type": "code",
      "execution_count": null,
      "metadata": {
        "colab": {
          "base_uri": "https://localhost:8080/"
        },
        "id": "eMgLmb-o0mQs",
        "outputId": "e255a32e-9536-4fb4-cce6-1d46c2d9ec17"
      },
      "outputs": [
        {
          "name": "stdout",
          "output_type": "stream",
          "text": [
            "voltage: 8 volts\n"
          ]
        }
      ],
      "source": [
        "def voltage (current,resistance):\n",
        "  return current*resistance\n",
        "print(f\"voltage: {voltage(2,4)} volts\")"
      ]
    },
    {
      "cell_type": "code",
      "execution_count": null,
      "metadata": {
        "id": "JL1wxtHU4h-u",
        "colab": {
          "base_uri": "https://localhost:8080/"
        },
        "outputId": "d48e72b2-1761-4b40-e194-ce55dd0d0996"
      },
      "outputs": [
        {
          "output_type": "stream",
          "name": "stdout",
          "text": [
            "motor efficiency:90%\n",
            "generator efficiency:80%\n"
          ]
        }
      ],
      "source": [
        "\n",
        "class Machines:\n",
        "  def efficiency(self):\n",
        "    return\"efficiency not defined\"\n",
        "class motor(Machines):\n",
        "  def efficiency(self):\n",
        "    return\"motor efficiency:90%\"\n",
        "class generator(Machines):\n",
        "  def efficiency(self):\n",
        "    return\"generator efficiency:80%\"\n",
        "Machines=[motor(),generator()]\n",
        "for m in Machines:\n",
        "  print(m.efficiency())\n",
        "\n"
      ]
    },
    {
      "cell_type": "code",
      "source": [
        "import random\n",
        "otp=random.randint(1000,9999)\n",
        "print(\"aswan otp:\",otp)\n",
        "entered_otp=int(input(\"enter otp:\"))\n",
        "if entered_otp==otp:\n",
        "  print(\"otp verified successfully:\")\n",
        "else:\n",
        "  print(\"invaild otp please try again:\")"
      ],
      "metadata": {
        "colab": {
          "base_uri": "https://localhost:8080/"
        },
        "id": "2B00-Tet9hwj",
        "outputId": "7293a2fe-68c9-41d0-e0ba-431b2d556a8f"
      },
      "execution_count": null,
      "outputs": [
        {
          "output_type": "stream",
          "name": "stdout",
          "text": [
            "aswan otp: 1376\n",
            "enter otp:1376\n",
            "otp verified successfully:\n"
          ]
        }
      ]
    },
    {
      "cell_type": "code",
      "source": [
        "#CONCRETE MIX VOLUME CALCULATION\n"
      ],
      "metadata": {
        "id": "X78zAmK_-x44"
      },
      "execution_count": null,
      "outputs": []
    },
    {
      "cell_type": "code",
      "source": [
        "#RLC CIRCUIT IMPEDENCE\n",
        "import math\n",
        "def rlc_impedence(r,l,c,f):\n",
        "  xl=2*math.pi*f*l\n",
        "  xc=1/(2*math.pi*f*c)\n",
        "  return math.sqrt(r**2+(xl-xc)**2)\n",
        "r=100\n",
        "l=0.5#h\n",
        "c=1e-6#f\n",
        "f=50#hz\n",
        "print(\"rlc circuit impedence:\",rlc_impedence(r,l,c,f),\"ohms\")"
      ],
      "metadata": {
        "colab": {
          "base_uri": "https://localhost:8080/"
        },
        "id": "oeitPVgwiUYA",
        "outputId": "e775ab4e-a920-47b7-cff4-e02964410824"
      },
      "execution_count": null,
      "outputs": [
        {
          "output_type": "stream",
          "name": "stdout",
          "text": [
            "rlc circuit impedence: 3027.671114113371 ohms\n"
          ]
        }
      ]
    },
    {
      "cell_type": "code",
      "source": [
        "#three phase power calculation\n",
        "import math\n",
        "def three_phase_power(V_line,I_line,power_factor):\n",
        "  return math.sqrt(3)*V_line*I_line*power_factor\n",
        "print(\"three-phase power:\",three_phase_power(415,10,0.8),\"watts\")"
      ],
      "metadata": {
        "colab": {
          "base_uri": "https://localhost:8080/"
        },
        "id": "Vb-ZFPxsjmux",
        "outputId": "942822e6-d84f-42e6-de47-1e4b52651015"
      },
      "execution_count": null,
      "outputs": [
        {
          "output_type": "stream",
          "name": "stdout",
          "text": [
            "three-phase power: 5750.4086811286725 watts\n"
          ]
        }
      ]
    },
    {
      "cell_type": "code",
      "source": [
        "def double_numbers(numbers):\n",
        "  doubled=[]\n",
        "  for n in numbers:\n",
        "   doubled.append(n*2)\n",
        "  return doubled\n",
        "numbers=[8,5,2,6,5]\n",
        "result=double_numbers(numbers)\n",
        "print(\"orginal\",numbers)\n",
        "print(\"doubled:\",result)"
      ],
      "metadata": {
        "colab": {
          "base_uri": "https://localhost:8080/"
        },
        "id": "OUeOHflNmHOm",
        "outputId": "90dcd3ad-1d49-4e33-a656-075319644c1d"
      },
      "execution_count": null,
      "outputs": [
        {
          "output_type": "stream",
          "name": "stdout",
          "text": [
            "orginal [8, 5, 2, 6, 5]\n",
            "doubled: [16, 10, 4, 12, 10]\n"
          ]
        }
      ]
    },
    {
      "cell_type": "code",
      "source": [
        "import math\n",
        "def three_phase_power(v_line,i_line,power_factor):\n",
        "  return math.sqrt(3)*v_line*i_line*power_factor\n",
        "print(\"three-phase power:\",three_phase_power(415,10,0.9),\"watts\")"
      ],
      "metadata": {
        "colab": {
          "base_uri": "https://localhost:8080/"
        },
        "id": "yGjfHbY_orCI",
        "outputId": "6ccb3def-f6bc-4cb7-94c6-87170572299b"
      },
      "execution_count": null,
      "outputs": [
        {
          "output_type": "stream",
          "name": "stdout",
          "text": [
            "three-phase power: 6469.209766269757 watts\n"
          ]
        }
      ]
    },
    {
      "cell_type": "code",
      "source": [
        "#access elements intuple\n",
        "num=[10,90,35]\n",
        "if len(num) > 10:\n",
        "  print(\"first element:\",num[1])\n",
        "  print(\"second element:\",num[-2])\n",
        "else:\n",
        "   print(\"third element:\",num[-1])"
      ],
      "metadata": {
        "colab": {
          "base_uri": "https://localhost:8080/"
        },
        "id": "QdnTcBxTrDOL",
        "outputId": "f6e39402-b8a8-45e6-9960-aa52590f426a"
      },
      "execution_count": null,
      "outputs": [
        {
          "output_type": "stream",
          "name": "stdout",
          "text": [
            "third element: 35\n"
          ]
        }
      ]
    },
    {
      "cell_type": "code",
      "source": [
        "def add_numbers(a,b):\n",
        "  return a+b\n",
        "result=add_numbers(4,55)\n",
        "print(\"num is:\",result)"
      ],
      "metadata": {
        "id": "VwI5cW93qUKa",
        "colab": {
          "base_uri": "https://localhost:8080/"
        },
        "outputId": "f5db7c2a-c2b9-41e5-a5f8-f0eeb5e01e4c"
      },
      "execution_count": null,
      "outputs": [
        {
          "output_type": "stream",
          "name": "stdout",
          "text": [
            "num is: 59\n"
          ]
        }
      ]
    },
    {
      "cell_type": "code",
      "source": [
        "count=0\n",
        "while count<5:\n",
        "  print(\"count:\",count)\n",
        "  count+=1\n"
      ],
      "metadata": {
        "colab": {
          "base_uri": "https://localhost:8080/"
        },
        "id": "k-DSuk0axkcx",
        "outputId": "d5de7b30-3c4d-4063-a166-0a047e162aa4"
      },
      "execution_count": null,
      "outputs": [
        {
          "output_type": "stream",
          "name": "stdout",
          "text": [
            "count: 0\n",
            "count: 1\n",
            "count: 2\n",
            "count: 3\n",
            "count: 4\n"
          ]
        }
      ]
    },
    {
      "cell_type": "code",
      "source": [
        "for i in range(8):\n",
        "  print(\"coole\",i)"
      ],
      "metadata": {
        "colab": {
          "base_uri": "https://localhost:8080/"
        },
        "id": "zYXIOdUdyHMK",
        "outputId": "7bab22b3-520f-4327-d090-863055837299"
      },
      "execution_count": null,
      "outputs": [
        {
          "output_type": "stream",
          "name": "stdout",
          "text": [
            "coole 0\n",
            "coole 1\n",
            "coole 2\n",
            "coole 3\n",
            "coole 4\n",
            "coole 5\n",
            "coole 6\n",
            "coole 7\n"
          ]
        }
      ]
    },
    {
      "cell_type": "code",
      "source": [
        "names=[\"ntr\",\"babu\",\"aa\",\"balayya\"]\n",
        "for i, name in enumerate(names):\n",
        "  print(f\"{name} [{i+1}]\")"
      ],
      "metadata": {
        "colab": {
          "base_uri": "https://localhost:8080/"
        },
        "id": "XeTgia5KyVaX",
        "outputId": "3c4fa554-f643-4f0b-ef71-197af64f51cf"
      },
      "execution_count": null,
      "outputs": [
        {
          "output_type": "stream",
          "name": "stdout",
          "text": [
            "ntr [1]\n",
            "babu [2]\n",
            "aa [3]\n",
            "balayya [4]\n"
          ]
        }
      ]
    },
    {
      "cell_type": "code",
      "source": [
        "#json &apis\n",
        "import json\n",
        "with open('machine_config.json')as f:\n",
        "  machine_config=json.load(f)\n",
        "print(f\"rated speed{machine_config['motor']['rated_speed']})"
      ],
      "metadata": {
        "id": "KuqzrLGqzhv4",
        "colab": {
          "base_uri": "https://localhost:8080/",
          "height": 106
        },
        "outputId": "97eb7100-2561-4fc3-ba04-52456fc4fdff"
      },
      "execution_count": null,
      "outputs": [
        {
          "output_type": "error",
          "ename": "SyntaxError",
          "evalue": "unterminated string literal (detected at line 5) (ipython-input-2256004840.py, line 5)",
          "traceback": [
            "\u001b[0;36m  File \u001b[0;32m\"/tmp/ipython-input-2256004840.py\"\u001b[0;36m, line \u001b[0;32m5\u001b[0m\n\u001b[0;31m    print(f\"rated speed{machine_config['motor']['rated_speed']})\u001b[0m\n\u001b[0m          ^\u001b[0m\n\u001b[0;31mSyntaxError\u001b[0m\u001b[0;31m:\u001b[0m unterminated string literal (detected at line 5)\n"
          ]
        }
      ]
    },
    {
      "cell_type": "code",
      "metadata": {
        "colab": {
          "base_uri": "https://localhost:8080/"
        },
        "id": "8d2bc91d",
        "outputId": "8756ec60-0122-47d6-b59a-3dda67c4fa7e"
      },
      "source": [
        "#json &apis\n",
        "import json\n",
        "with open('machine_config.json')as f:\n",
        "  machine_config=json.load(f)\n",
        "\n",
        "# The original code used 'config' instead of 'machine_config'.\n",
        "# Also, the key 'rated_speed' was misspelled in the original output.\n",
        "print(f\"Rated speed: {machine_config['motor']['rated_speed']}\")"
      ],
      "execution_count": null,
      "outputs": [
        {
          "output_type": "stream",
          "name": "stdout",
          "text": [
            "Rated speed: 1500\n"
          ]
        }
      ]
    },
    {
      "cell_type": "code",
      "metadata": {
        "colab": {
          "base_uri": "https://localhost:8080/"
        },
        "id": "54123057",
        "outputId": "c9b7f008-9c27-4e03-8780-ec84063e3b09"
      },
      "source": [
        "# Create a dummy machine_config.json file\n",
        "dummy_config = {\n",
        "    \"motor\": {\n",
        "        \"rated_speed\": 1500\n",
        "    }\n",
        "}\n",
        "\n",
        "import json\n",
        "\n",
        "with open('machine_config.json', 'w') as f:\n",
        "    json.dump(dummy_config, f)\n",
        "\n",
        "print(\"Created dummy 'machine_config.json' file.\")"
      ],
      "execution_count": null,
      "outputs": [
        {
          "output_type": "stream",
          "name": "stdout",
          "text": [
            "Created dummy 'machine_config.json' file.\n"
          ]
        }
      ]
    },
    {
      "cell_type": "code",
      "source": [
        "#scipy for calculations\n",
        "from scipy.optimize import fsolve\n",
        "def eq(x):\n",
        "  return 3*x**2-x-1\n",
        "root=fsolve(eq,0)\n",
        "print('root:',root)"
      ],
      "metadata": {
        "colab": {
          "base_uri": "https://localhost:8080/"
        },
        "id": "aj1zglR0HiAc",
        "outputId": "0e4162b8-172b-4fb9-8023-2cb7116a7a5c"
      },
      "execution_count": null,
      "outputs": [
        {
          "output_type": "stream",
          "name": "stdout",
          "text": [
            "root: [-0.43425855]\n"
          ]
        }
      ]
    },
    {
      "cell_type": "code",
      "source": [
        "#multi processing\n",
        "from multiprocessing import Pool\n",
        "def square(n):\n",
        "  return n*n\n",
        "with Pool(processes=4) as p:\n",
        "    print(p.map(square,[1,2,3,4,5]))"
      ],
      "metadata": {
        "colab": {
          "base_uri": "https://localhost:8080/"
        },
        "id": "2Go2v6tNK0qp",
        "outputId": "1b979983-9f54-4306-ad5c-9f5659db4792"
      },
      "execution_count": null,
      "outputs": [
        {
          "output_type": "stream",
          "name": "stdout",
          "text": [
            "[1, 4, 9, 16, 25]\n"
          ]
        }
      ]
    },
    {
      "cell_type": "code",
      "source": [
        "#data flirting\n",
        "import numpy as np\n",
        "from scipy.optimize import curve_fit\n",
        "def model(z,a,b):\n",
        "   return a*np.exp(b*x)\n",
        "x=np.linspace(0,4,50)\n",
        "y=model(x,2,0.5)+np.random.normal(0,0.2,50)\n",
        "popt,_=curve_fit(model,x,y)\n",
        "print(popt)"
      ],
      "metadata": {
        "colab": {
          "base_uri": "https://localhost:8080/"
        },
        "id": "c85PPW7CQo4u",
        "outputId": "188cf984-e721-44ad-d28e-9f1091c7f092"
      },
      "execution_count": null,
      "outputs": [
        {
          "output_type": "stream",
          "name": "stdout",
          "text": [
            "[2.01593088 0.50010815]\n"
          ]
        }
      ]
    },
    {
      "cell_type": "code",
      "source": [
        "#advance\n",
        "import numpy as np\n",
        "arr=np.array([4,6,9,15])\n",
        "print(arr)"
      ],
      "metadata": {
        "id": "Uq7M23gifgu5",
        "colab": {
          "base_uri": "https://localhost:8080/"
        },
        "outputId": "ca041149-f804-404a-87c3-78713de22cc8"
      },
      "execution_count": null,
      "outputs": [
        {
          "output_type": "stream",
          "name": "stdout",
          "text": [
            "[ 4  6  9 15]\n"
          ]
        }
      ]
    },
    {
      "cell_type": "code",
      "source": [
        "thirdyear_list=[10,500,1000]\n",
        "print(\"orginal\",thirdyear_list)\n",
        "thirdyear_list.append(666)\n",
        "thirdyear_list[2]=666\n",
        "print(\"updates\",thirdyear_list)"
      ],
      "metadata": {
        "colab": {
          "base_uri": "https://localhost:8080/"
        },
        "id": "N-BDh1fJDw3N",
        "outputId": "4a6ce2bd-f83f-4fcd-9276-73893179633f"
      },
      "execution_count": null,
      "outputs": [
        {
          "output_type": "stream",
          "name": "stdout",
          "text": [
            "orginal [10, 500, 1000]\n",
            "updates [10, 500, 666, 666]\n"
          ]
        }
      ]
    },
    {
      "cell_type": "code",
      "source": [
        "student_tuple=(1,2,3,4,5,6,7,8,9,10)\n",
        "print(\"orginal\",student_tuple)\n",
        "new_tuple=student_tuple+(11,0)\n",
        "print(\"updated\",new_tuple)"
      ],
      "metadata": {
        "id": "GuSgMnoILjAc",
        "colab": {
          "base_uri": "https://localhost:8080/"
        },
        "outputId": "6882b531-dcd8-436a-f55f-acc1e6bb6403"
      },
      "execution_count": null,
      "outputs": [
        {
          "output_type": "stream",
          "name": "stdout",
          "text": [
            "orginal (1, 2, 3, 4, 5, 6, 7, 8, 9, 10)\n",
            "updated (1, 2, 3, 4, 5, 6, 7, 8, 9, 10, 11, 0)\n"
          ]
        }
      ]
    },
    {
      "cell_type": "code",
      "source": [
        "for i in range(1,10):\n",
        "  for j in range(1,10):\n",
        "    print(\"జై శ్రీ కృష్ణ\",end='\\t')\n",
        "  print(\"\\n\")"
      ],
      "metadata": {
        "id": "ha_jzJ0rRsEP",
        "colab": {
          "base_uri": "https://localhost:8080/"
        },
        "outputId": "a9977eae-7a36-4ca8-c002-c1ef16f9d042"
      },
      "execution_count": null,
      "outputs": [
        {
          "output_type": "stream",
          "name": "stdout",
          "text": [
            "జై శ్రీ కృష్ణ\tజై శ్రీ కృష్ణ\tజై శ్రీ కృష్ణ\tజై శ్రీ కృష్ణ\tజై శ్రీ కృష్ణ\tజై శ్రీ కృష్ణ\tజై శ్రీ కృష్ణ\tజై శ్రీ కృష్ణ\tజై శ్రీ కృష్ణ\t\n",
            "\n",
            "జై శ్రీ కృష్ణ\tజై శ్రీ కృష్ణ\tజై శ్రీ కృష్ణ\tజై శ్రీ కృష్ణ\tజై శ్రీ కృష్ణ\tజై శ్రీ కృష్ణ\tజై శ్రీ కృష్ణ\tజై శ్రీ కృష్ణ\tజై శ్రీ కృష్ణ\t\n",
            "\n",
            "జై శ్రీ కృష్ణ\tజై శ్రీ కృష్ణ\tజై శ్రీ కృష్ణ\tజై శ్రీ కృష్ణ\tజై శ్రీ కృష్ణ\tజై శ్రీ కృష్ణ\tజై శ్రీ కృష్ణ\tజై శ్రీ కృష్ణ\tజై శ్రీ కృష్ణ\t\n",
            "\n",
            "జై శ్రీ కృష్ణ\tజై శ్రీ కృష్ణ\tజై శ్రీ కృష్ణ\tజై శ్రీ కృష్ణ\tజై శ్రీ కృష్ణ\tజై శ్రీ కృష్ణ\tజై శ్రీ కృష్ణ\tజై శ్రీ కృష్ణ\tజై శ్రీ కృష్ణ\t\n",
            "\n",
            "జై శ్రీ కృష్ణ\tజై శ్రీ కృష్ణ\tజై శ్రీ కృష్ణ\tజై శ్రీ కృష్ణ\tజై శ్రీ కృష్ణ\tజై శ్రీ కృష్ణ\tజై శ్రీ కృష్ణ\tజై శ్రీ కృష్ణ\tజై శ్రీ కృష్ణ\t\n",
            "\n",
            "జై శ్రీ కృష్ణ\tజై శ్రీ కృష్ణ\tజై శ్రీ కృష్ణ\tజై శ్రీ కృష్ణ\tజై శ్రీ కృష్ణ\tజై శ్రీ కృష్ణ\tజై శ్రీ కృష్ణ\tజై శ్రీ కృష్ణ\tజై శ్రీ కృష్ణ\t\n",
            "\n",
            "జై శ్రీ కృష్ణ\tజై శ్రీ కృష్ణ\tజై శ్రీ కృష్ణ\tజై శ్రీ కృష్ణ\tజై శ్రీ కృష్ణ\tజై శ్రీ కృష్ణ\tజై శ్రీ కృష్ణ\tజై శ్రీ కృష్ణ\tజై శ్రీ కృష్ణ\t\n",
            "\n",
            "జై శ్రీ కృష్ణ\tజై శ్రీ కృష్ణ\tజై శ్రీ కృష్ణ\tజై శ్రీ కృష్ణ\tజై శ్రీ కృష్ణ\tజై శ్రీ కృష్ణ\tజై శ్రీ కృష్ణ\tజై శ్రీ కృష్ణ\tజై శ్రీ కృష్ణ\t\n",
            "\n",
            "జై శ్రీ కృష్ణ\tజై శ్రీ కృష్ణ\tజై శ్రీ కృష్ణ\tజై శ్రీ కృష్ణ\tజై శ్రీ కృష్ణ\tజై శ్రీ కృష్ణ\tజై శ్రీ కృష్ణ\tజై శ్రీ కృష్ణ\tజై శ్రీ కృష్ణ\t\n",
            "\n"
          ]
        }
      ]
    },
    {
      "cell_type": "code",
      "source": [
        "student_set={1,2,3,4,5,6,7,8,9,10}\n",
        "print(\"orginal\",student_set)\n",
        "student_set.add(11)\n",
        "student_set.remove(3)\n",
        "student_set.remove(1)\n",
        "print(\"update\",student_set)"
      ],
      "metadata": {
        "colab": {
          "base_uri": "https://localhost:8080/"
        },
        "id": "raTrXawuQfTw",
        "outputId": "65ce5836-f818-45b5-f016-fbbba4345417"
      },
      "execution_count": null,
      "outputs": [
        {
          "output_type": "stream",
          "name": "stdout",
          "text": [
            "orginal {1, 2, 3, 4, 5, 6, 7, 8, 9, 10}\n",
            "update {2, 4, 5, 6, 7, 8, 9, 10, 11}\n"
          ]
        }
      ]
    },
    {
      "cell_type": "code",
      "source": [
        "class address:\n",
        "  def__int__(self,street,city,state):\n",
        "    self.street=street\n",
        "    self.city=city\n",
        "    self.state=state\n",
        "s1=address(\"bc colony\",\"dornipadu\",\"ap\")\n",
        "print(s1.street,s1.city,s1.state)"
      ],
      "metadata": {
        "id": "JRHHyFGiKZyF",
        "colab": {
          "base_uri": "https://localhost:8080/"
        },
        "outputId": "e9b18ce1-39ea-4866-9dd5-15f6e0d3bcb7"
      },
      "execution_count": null,
      "outputs": [
        {
          "output_type": "stream",
          "name": "stdout",
          "text": [
            "bc colony dornipadu ap\n"
          ]
        }
      ]
    },
    {
      "cell_type": "code",
      "source": [
        "for i in range(1,50):\n",
        "  for j in range(1,50):\n",
        "    print(\"జై శ్రీ కృష్ణ\",end='\\t')\n",
        "  print(\"\\n\")"
      ],
      "metadata": {
        "id": "CBYc5CIecVqH"
      },
      "execution_count": null,
      "outputs": []
    },
    {
      "cell_type": "code",
      "source": [
        "import numpy as np\n",
        "matrix_a=np.array([[1,2],[7,8]])\n",
        "matrix_b=np.array([[8,9],[4,5]])\n",
        "add=np.add(matrix_a,matrix_b)\n",
        "print(\"addition:\\n\",add)"
      ],
      "metadata": {
        "colab": {
          "base_uri": "https://localhost:8080/"
        },
        "id": "BPw9l2Srp22z",
        "outputId": "cca4e532-21ce-4fab-e6b7-4e31452f2622"
      },
      "execution_count": null,
      "outputs": [
        {
          "output_type": "stream",
          "name": "stdout",
          "text": [
            "addition:\n",
            " [[ 9 11]\n",
            " [11 13]]\n"
          ]
        }
      ]
    },
    {
      "cell_type": "code",
      "source": [
        "#expecting handling\n",
        "try:\n",
        "  data=float(input('enter load value'))\n",
        "  print(f\"input recieved :{data}\")\n",
        "except valueerror:\n",
        "  print('invalid input!enter a number')"
      ],
      "metadata": {
        "id": "OPKvZohtlO0F",
        "colab": {
          "base_uri": "https://localhost:8080/"
        },
        "outputId": "7259872c-dbda-48e9-cdcc-7284ca021516"
      },
      "execution_count": null,
      "outputs": [
        {
          "output_type": "stream",
          "name": "stdout",
          "text": [
            "enter load value88\n",
            "input recieved :88.0\n"
          ]
        }
      ]
    },
    {
      "cell_type": "code",
      "source": [
        "def vegetables:\n",
        "  print(f\"potato\",\"brinjal\",\"tomoto\",\"lady finger\")"
      ],
      "metadata": {
        "id": "yydcBrLWFHwt"
      },
      "execution_count": null,
      "outputs": []
    },
    {
      "cell_type": "code",
      "source": [
        "import matplotlib.pyplot as plt\n",
        "import numpy as np\n",
        "x=np.linspace(0,2*np.pi,60)\n",
        "y=np.sin(x)\n",
        "y1=np.sin(x-(2*np.pi)/3)\n",
        "y2=np.sin(x-(4*np.pi)/3)\n",
        "y3=np.sin(x-x)\n",
        "plt.plot(x,y)\n",
        "plt.plot(x,y1)\n",
        "plt.plot(x,y2)\n",
        "plt.plot(x,y3)\n",
        "plt.xlabel(\"wt\")\n",
        "plt.ylabel(\"voltage\")\n",
        "plt.title(\"3-phase sine wave\")\n",
        "plt.show()\n",
        "\n"
      ],
      "metadata": {
        "id": "vGc4uLTNWmZA",
        "colab": {
          "base_uri": "https://localhost:8080/",
          "height": 472
        },
        "outputId": "fad96e6d-4ca2-4669-d4dc-1383e2871a1e"
      },
      "execution_count": null,
      "outputs": [
        {
          "output_type": "display_data",
          "data": {
            "text/plain": [
              "<Figure size 640x480 with 1 Axes>"
            ],
            "image/png": "[encoded data removed]"
          },
          "metadata": {}
        }
      ]
    },
    {
      "cell_type": "code",
      "source": [
        "#spicy for calculations\n",
        "from scipy.optimize import fsolve\n",
        "def eq(x):\n",
        "  return 3*x**2-x-1\n",
        "root=fsolve(eq,0)\n",
        "print('Root:',root)\n"
      ],
      "metadata": {
        "colab": {
          "base_uri": "https://localhost:8080/"
        },
        "id": "Wp0TXbcTGdiw",
        "outputId": "4b2612e2-2f44-4112-fa42-9d1ce78d1fe2"
      },
      "execution_count": null,
      "outputs": [
        {
          "output_type": "stream",
          "name": "stdout",
          "text": [
            "Root: [-0.43425855]\n"
          ]
        }
      ]
    },
    {
      "cell_type": "code",
      "source": [
        "#monte carlo simulation\n",
        "import numpy as np\n",
        "sample=np.random.normal(50,5,100000)\n",
        "failure_rate=np.mean(sample>60)\n",
        "print('failure rate:',failure_rate*100,'%')"
      ],
      "metadata": {
        "colab": {
          "base_uri": "https://localhost:8080/"
        },
        "id": "eXCu39agKnhz",
        "outputId": "7519379e-a12b-4e39-a5b5-67a7b275dbb7"
      },
      "execution_count": null,
      "outputs": [
        {
          "output_type": "stream",
          "name": "stdout",
          "text": [
            "failure rate: 2.348 %\n"
          ]
        }
      ]
    },
    {
      "cell_type": "code",
      "source": [
        "#mathplotlib\n",
        "import matplotlib.pyplot as plt\n",
        "stress=[0,50,100,150,200]\n",
        "strain=[0,0.002,0.004,0.006,0.008]\n",
        "plt.plot(strain,stress,marker='o')\n",
        "plt.xlabel(\"strain\")\n",
        "plt.ylabel(\"stress(mpa)\")\n",
        "plt.title(\"stess-strain curve\")\n",
        "plt.show()\n"
      ],
      "metadata": {
        "colab": {
          "base_uri": "https://localhost:8080/",
          "height": 472
        },
        "id": "AH_AXRuAID2i",
        "outputId": "f186896e-4bf8-4c3a-c540-23b5c071ef07"
      },
      "execution_count": null,
      "outputs": [
        {
          "output_type": "display_data",
          "data": {
            "text/plain": [
              "<Figure size 640x480 with 1 Axes>"
            ],
            "image/png": "[encoded data removed]"
          },
          "metadata": {}
        }
      ]
    },
    {
      "cell_type": "markdown",
      "source": [
        "#pandas\n",
        "import pandas as pd\n",
        "df=pd.data frame({\"beam id\"})\n",
        "\n",
        "\n"
      ],
      "metadata": {
        "id": "S4KlhOUDMYAt"
      }
    },
    {
      "cell_type": "code",
      "source": [
        "class person:\n",
        "  def __init__(self,fname,lname):\n",
        "    self.first_name=fname\n",
        "    self.last_name=lname\n",
        "  def greet(self):\n",
        "    print(f\"yooyoo {self.first_name} {self.last_name}\")\n",
        "x=person(\"nagendra\",\"yadav\")\n",
        "x.greet()"
      ],
      "metadata": {
        "colab": {
          "base_uri": "https://localhost:8080/"
        },
        "id": "Wnpi3DjuS0bp",
        "outputId": "9872e69e-0844-436f-e88b-71379d5d36df"
      },
      "execution_count": null,
      "outputs": [
        {
          "output_type": "stream",
          "name": "stdout",
          "text": [
            "yooyoo nagendra yadav\n"
          ]
        }
      ]
    },
    {
      "cell_type": "code",
      "source": [
        "class object:\n",
        "  def __init__(self):\n",
        "    pass"
      ],
      "metadata": {
        "id": "HtdGptW2b75I"
      },
      "execution_count": null,
      "outputs": []
    },
    {
      "cell_type": "code",
      "source": [
        "# Calculate power from voltage and current\n",
        "voltage = float(input(\"Enter voltage (V): \"))\n",
        "current = float(input(\"Enter current (A): \"))\n",
        "\n",
        "power = voltage * current\n",
        "\n",
        "print(f\"Calculated Power: {power} Watts\")"
      ],
      "metadata": {
        "colab": {
          "base_uri": "https://localhost:8080/"
        },
        "id": "Wq4mOUNggMAm",
        "outputId": "ca5cb6fc-2b2a-49b6-8a90-27dddd5b753b"
      },
      "execution_count": null,
      "outputs": [
        {
          "output_type": "stream",
          "name": "stdout",
          "text": [
            "Enter voltage (V): 85\n",
            "Enter current (A): 5\n",
            "Calculated Power: 425.0 Watts\n"
          ]
        }
      ]
    },
    {
      "cell_type": "code",
      "source": [
        "# Display the final State of Charge (SOC) from the battery simulation\n",
        "print(f\"Final State of Charge (SOC): {state_of_charge:.2f}\")"
      ],
      "metadata": {
        "colab": {
          "base_uri": "https://localhost:8080/"
        },
        "id": "Y6HEGHZTgPGV",
        "outputId": "feadfe73-2eeb-490b-ffe9-3fc15ad55530"
      },
      "execution_count": null,
      "outputs": [
        {
          "output_type": "stream",
          "name": "stdout",
          "text": [
            "Final State of Charge (SOC): -0.02\n"
          ]
        }
      ]
    },
    {
      "cell_type": "code",
      "source": [
        "numpy is a library for working with arrays and mathematical functions\n"
      ],
      "metadata": {
        "id": "zjyLdqj2g55G"
      },
      "execution_count": null,
      "outputs": []
    },
    {
      "cell_type": "code",
      "metadata": {
        "colab": {
          "base_uri": "https://localhost:8080/"
        },
        "id": "d20f534a",
        "outputId": "35132112-81e5-4ecf-dfbb-14d61c2d8954"
      },
      "source": [
        "import numpy as np\n",
        "import matplotlib.pyplot as plt\n",
        "\n",
        "# NumPy is a library for working with arrays and mathematical functions.\n",
        "# Matplotlib is a library for creating static, interactive, and animated visualizations in Python.\n",
        "\n",
        "print(\"NumPy and Matplotlib libraries imported.\")"
      ],
      "execution_count": null,
      "outputs": [
        {
          "output_type": "stream",
          "name": "stdout",
          "text": [
            "NumPy and Matplotlib libraries imported.\n"
          ]
        }
      ]
    },
    {
      "cell_type": "code",
      "source": [
        "# Design FIR and IIR filters\n",
        "\n",
        "from scipy import signal\n",
        "import matplotlib.pyplot as plt\n",
        "import numpy as np\n",
        "\n",
        "# Generate a noisy signal\n",
        "fs = 1000  # Sampling frequency\n",
        "t = np.linspace(0, 1, fs, endpoint=False)\n",
        "sig = np.sin(2*np.pi*10*t) + np.sin(2*np.pi*20*t) + np.random.randn(len(t))*0.1 # 10Hz and 20Hz sine waves with noise\n",
        "\n",
        "# Design a Butterworth low-pass filter (IIR)\n",
        "nyq = 0.5 * fs  # Nyquist frequency\n",
        "normal_cutoff = 15 / nyq\n",
        "b, a = signal.butter(4, normal_cutoff, btype='low', analog=False) # 4th order Butterworth filter\n",
        "\n",
        "# Apply the filter\n",
        "filtered_sig_iir = signal.filtfilt(b, a, sig)\n",
        "\n",
        "# Design a FIR low-pass filter using the window method\n",
        "fir_coeff = signal.firwin(101, 15, fs=fs, pass_zero='lowpass') # 101 is the number of taps, 15 is the cutoff frequency\n",
        "\n",
        "# Apply the filter\n",
        "filtered_sig_fir = signal.convolve(sig, fir_coeff, mode='same')\n",
        "\n",
        "# Plot the original and filtered signals\n",
        "plt.figure(figsize=(10, 6))\n",
        "plt.plot(t, sig, label='Original Signal')\n",
        "plt.plot(t, filtered_sig_iir, label='IIR Filtered Signal')\n",
        "plt.plot(t, filtered_sig_fir, label='FIR Filtered Signal')\n",
        "plt.xlabel('Time [s]')\n",
        "plt.ylabel('Amplitude')\n",
        "plt.title('Original and Filtered Signals')\n",
        "plt.legend()\n",
        "plt.grid(True)\n",
        "plt.show()"
      ],
      "metadata": {
        "id": "dcjii_HMg5pe",
        "colab": {
          "base_uri": "https://localhost:8080/",
          "height": 564
        },
        "outputId": "a1cfef8d-5f20-4d09-c3db-485da6b18e69"
      },
      "execution_count": null,
      "outputs": [
        {
          "output_type": "display_data",
          "data": {
            "text/plain": [
              "<Figure size 1000x600 with 1 Axes>"
            ],
            "image/png": "[encoded data removed]"
          },
          "metadata": {}
        }
      ]
    },
    {
      "cell_type": "code",
      "source": [
        "from scipy import signal\n",
        "import numpy as np\n",
        "\n",
        "def apply_filter(noisy_signal, filter_type, filter_params):\n",
        "  \"\"\"\n",
        "  Applies a filter to a noisy signal.\n",
        "\n",
        "  Args:\n",
        "    noisy_signal: The input signal with noise.\n",
        "    filter_type: Type of filter ('fir' or 'iir').\n",
        "    filter_params: Dictionary of parameters for the filter.\n",
        "\n",
        "  Returns:\n",
        "    The filtered signal.\n",
        "  \"\"\"\n",
        "  if filter_type == 'fir':\n",
        "    # Example FIR filter design (you can customize this based on filter_params)\n",
        "    cutoff_freq = filter_params.get('cutoff_freq', 15)\n",
        "    num_taps = filter_params.get('num_taps', 101)\n",
        "    fs = filter_params.get('fs', 1000)\n",
        "    fir_coeff = signal.firwin(num_taps, cutoff_freq, fs=fs, pass_zero='lowpass')\n",
        "    filtered_signal = signal.convolve(noisy_signal, fir_coeff, mode='same')\n",
        "  elif filter_type == 'iir':\n",
        "    # Example IIR filter design (you can customize this based on filter_params)\n",
        "    cutoff_freq = filter_params.get('cutoff_freq', 15)\n",
        "    order = filter_params.get('order', 4)\n",
        "    fs = filter_params.get('fs', 1000)\n",
        "    nyq = 0.5 * fs\n",
        "    normal_cutoff = cutoff_freq / nyq\n",
        "    b, a = signal.butter(order, normal_cutoff, btype='low', analog=False)\n",
        "    filtered_signal = signal.filtfilt(b, a, noisy_signal)\n",
        "  else:\n",
        "    raise ValueError(\"Invalid filter_type. Choose 'fir' or 'iir'.\")\n",
        "\n",
        "  return filtered_signal\n",
        "\n",
        "# Example usage:\n",
        "# Generate a noisy signal (replace with your actual noisy signal)\n",
        "fs = 1000\n",
        "t = np.linspace(0, 1, fs, endpoint=False)\n",
        "noisy_sig = np.sin(2*np.pi*10*t) + np.sin(2*np.pi*20*t) + np.random.randn(len(t))*0.1\n",
        "\n",
        "# Define filter parameters\n",
        "fir_params = {'cutoff_freq': 15, 'num_taps': 101, 'fs': fs}\n",
        "iir_params = {'cutoff_freq': 15, 'order': 4, 'fs': fs}\n",
        "\n",
        "# Apply the filters\n",
        "filtered_sig_fir = apply_filter(noisy_sig, 'fir', fir_params)\n",
        "filtered_sig_iir = apply_filter(noisy_sig, 'iir', iir_params)\n",
        "\n",
        "# You can now use filtered_sig_fir and filtered_sig_iir for further analysis or plotting."
      ],
      "metadata": {
        "id": "8Ixarc_eMMMV"
      },
      "execution_count": null,
      "outputs": []
    },
    {
      "cell_type": "code",
      "source": [
        "from scipy import signal\n",
        "import matplotlib.pyplot as plt\n",
        "import numpy as np\n",
        "\n",
        "def apply_filter_and_get_response(noisy_signal, filter_type, filter_params):\n",
        "  \"\"\"\n",
        "  Applies a filter to a noisy signal and returns the filtered signal and frequency response.\n",
        "\n",
        "  Args:\n",
        "    noisy_signal: The input signal with noise.\n",
        "    filter_type: Type of filter ('fir' or 'iir').\n",
        "    filter_params: Dictionary of parameters for the filter.\n",
        "\n",
        "  Return:\n",
        "    A tuple containing:\n",
        "      - filtered_signal: The filtered signal.\n",
        "      - w: The frequencies at which the response was computed (for frequency response).\n",
        "      - h: The frequency response of the filter (for frequency response).\n",
        "  \"\"\"\n",
        "  if filter_type == 'fir':\n",
        "    cutoff_freq = filter_params.get('cutoff_freq', 15)\n",
        "    num_taps = filter_params.get('num_taps', 101)\n",
        "    fs = filter_params.get('fs', 1000)\n",
        "    fir_coeff = signal.firwin(num_taps, cutoff_freq, fs=fs, pass_zero='lowpass')\n",
        "    filtered_signal = signal.convolve(noisy_signal, fir_coeff, mode='same')\n",
        "    w, h = signal.freqz(fir_coeff, worN=8000)\n",
        "  elif filter_type == 'iir':\n",
        "    cutoff_freq = filter_params.get('cutoff_freq', 15)\n",
        "    order = filter_params.get('order', 4)\n",
        "    fs = filter_params.get('fs', 1000)\n",
        "    nyq = 0.5 * fs\n",
        "    normal_cutoff = cutoff_freq / nyq\n",
        "    b, a = signal.butter(order, normal_cutoff, btype='low', analog=False)\n",
        "    filtered_signal = signal.filtfilt(b, a, noisy_signal)\n",
        "    w, h = signal.freqz(b, a, worN=8000)\n",
        "  else:\n",
        "    raise ValueError(\"Invalid filter_type. Choose 'fir' or 'iir'.\")\n",
        "\n",
        "  return filtered_signal, w, h\n",
        "\n",
        "# Example usage:\n",
        "# Generate a noisy signal (replace with your actual noisy signal)\n",
        "fs = 1000\n",
        "t = np.linspace(0, 1, fs, endpoint=False)\n",
        "noisy_sig = np.sin(2*np.pi*10*t) + np.sin(2*np.pi*20*t) + np.random.randn(len(t))*0.1\n",
        "\n",
        "# Define filter parameters\n",
        "fir_params = {'cutoff_freq': 15, 'num_taps': 101, 'fs': fs}\n",
        "iir_params = {'cutoff_freq': 15, 'order': 4, 'fs': fs}\n",
        "\n",
        "# Apply the filters and get results\n",
        "filtered_sig_fir, w_fir, h_fir = apply_filter_and_get_response(noisy_sig, 'fir', fir_params)\n",
        "filtered_sig_iir, w_iir, h_iir = apply_filter_and_get_response(noisy_sig, 'iir', iir_params)\n",
        "\n",
        "# Display or plot the results as needed\n",
        "print(\"FIR Filtered Signal (first 10 elements):\", filtered_sig_fir[:10])\n",
        "print(\"IIR Filtered Signal (first 10 elements):\", filtered_sig_iir[:10])\n",
        "\n",
        "# Plot frequency response\n",
        "plt.figure(figsize=(10, 6))\n",
        "plt.plot(0.5*fs*w_fir/np.pi, np.abs(h_fir), label='FIR Filter Frequency Response')\n",
        "plt.plot(0.5*fs*w_iir/np.pi, np.abs(h_iir), label='IIR Filter Frequency Response')\n",
        "plt.xlabel('Frequency (Hz)')\n",
        "plt.ylabel('Magnitude')\n",
        "plt.title('Filter Frequency Responses')\n",
        "plt.legend()\n",
        "plt.grid(True)\n",
        "plt.show()"
      ],
      "metadata": {
        "colab": {
          "base_uri": "https://localhost:8080/",
          "height": 633
        },
        "id": "EciJm28KMgHK",
        "outputId": "a031d37f-08f2-4a27-f1e9-4ce2b743f1a0"
      },
      "execution_count": null,
      "outputs": [
        {
          "output_type": "stream",
          "name": "stdout",
          "text": [
            "FIR Filtered Signal (first 10 elements): [0.58059626 0.62026281 0.65924142 0.69713665 0.73370066 0.768421\n",
            " 0.80113096 0.83144707 0.85888271 0.88327622]\n",
            "IIR Filtered Signal (first 10 elements): [0.02420226 0.10879886 0.19142805 0.27173023 0.34935893 0.42398368\n",
            " 0.49529281 0.56299599 0.62682666 0.68654405]\n"
          ]
        },
        {
          "output_type": "display_data",
          "data": {
            "text/plain": [
              "<Figure size 1000x600 with 1 Axes>"
            ],
            "image/png": "[encoded data removed]"
          },
          "metadata": {}
        }
      ]
    },
    {
      "cell_type": "code",
      "source": [
        "# Import necessary libraries\n",
        "from scipy import signal\n",
        "import matplotlib.pyplot as plt"
      ],
      "metadata": {
        "id": "orPM1QKSM9Z0"
      },
      "execution_count": null,
      "outputs": []
    },
    {
      "cell_type": "code",
      "source": [
        "import numpy as np\n",
        "import matplotlib.pyplot as plt\n",
        "from scipy.signal import chirp, sawtooth\n",
        "\n",
        "# Generate a sample communication system signal (e.g., a simple sine wave)\n",
        "fs_comm = 1000  # Sampling frequency for communication signal\n",
        "t_comm = np.linspace(0, 1, fs_comm, endpoint=False)\n",
        "comm_signal = 0.5 * np.sin(2 * np.pi * 50 * t_comm)  # 50 Hz sine wave\n",
        "\n",
        "# Generate a sample ECG-like signal (simplified)\n",
        "fs_ecg = 250  # Sampling frequency for ECG signal\n",
        "t_ecg = np.linspace(0, 2, fs_ecg * 2, endpoint=False)\n",
        "# A simplified ECG-like signal with a few peaks\n",
        "ecg_signal = (\n",
        "    1.5 * np.sin(2 * np.pi * 1.2 * t_ecg) * np.exp(-5 * t_ecg)\n",
        "    + 0.8 * np.sin(2 * np.pi * 2.5 * t_ecg) * np.exp(-10 * t_ecg)\n",
        "    + 0.4 * sawtooth(2 * np.pi * 5 * t_ecg)\n",
        ")\n",
        "\n",
        "\n",
        "# Plot the generated signals\n",
        "plt.figure(figsize=(12, 6))\n",
        "\n",
        "plt.subplot(2, 1, 1)\n",
        "plt.plot(t_comm, comm_signal)\n",
        "plt.title(\"Sample Communication System Signal\")\n",
        "plt.xlabel(\"Time [s]\")\n",
        "plt.ylabel(\"Amplitude\")\n",
        "\n",
        "plt.subplot(2, 1, 2)\n",
        "plt.plot(t_ecg, ecg_signal)\n",
        "plt.title(\"Sample ECG-like Signal\")\n",
        "plt.xlabel(\"Time [s]\")\n",
        "plt.ylabel(\"Amplitue\")\n",
        "\n",
        "plt.tight_layout()\n",
        "plt.show()"
      ],
      "metadata": {
        "colab": {
          "base_uri": "https://localhost:8080/",
          "height": 390
        },
        "id": "yDegEeeSNUtV",
        "outputId": "f43a497e-a0ab-479f-e2ae-e62008d754f7"
      },
      "execution_count": null,
      "outputs": [
        {
          "output_type": "display_data",
          "data": {
            "text/plain": [
              "<Figure size 1200x600 with 2 Axes>"
            ],
            "image/png": "[encoded data removed]"
          },
          "metadata": {}
        }
      ]
    },
    {
      "cell_type": "code",
      "source": [
        "for i in range (1,8):\n",
        "  for j in range (1,9):\n",
        "    print(\"hi\",end='\\t')\n",
        "  print(\"\\n\")"
      ],
      "metadata": {
        "id": "-4wkTsS1ReFF",
        "colab": {
          "base_uri": "https://localhost:8080/"
        },
        "outputId": "42131a35-5469-47e3-9536-cb9ecddfbeba"
      },
      "execution_count": null,
      "outputs": [
        {
          "output_type": "stream",
          "name": "stdout",
          "text": [
            "hi\thi\thi\thi\thi\thi\thi\thi\t\n",
            "\n",
            "hi\thi\thi\thi\thi\thi\thi\thi\t\n",
            "\n",
            "hi\thi\thi\thi\thi\thi\thi\thi\t\n",
            "\n",
            "hi\thi\thi\thi\thi\thi\thi\thi\t\n",
            "\n",
            "hi\thi\thi\thi\thi\thi\thi\thi\t\n",
            "\n",
            "hi\thi\thi\thi\thi\thi\thi\thi\t\n",
            "\n",
            "hi\thi\thi\thi\thi\thi\thi\thi\t\n",
            "\n"
          ]
        }
      ]
    },
    {
      "cell_type": "code",
      "source": [
        "def greet(eee):\n",
        "  print(\"power system\",\"dc machines\",eee)\n",
        "greet(\"control systems\")\n",
        "greet(\"power electronics\")"
      ],
      "metadata": {
        "colab": {
          "base_uri": "https://localhost:8080/"
        },
        "id": "AGrohTm5khhM",
        "outputId": "329e16e8-96a3-4208-ab39-d382c05f5663"
      },
      "execution_count": null,
      "outputs": [
        {
          "output_type": "stream",
          "name": "stdout",
          "text": [
            "power system dc machines control systems\n",
            "power system dc machines power electronics\n"
          ]
        }
      ]
    },
    {
      "cell_type": "code",
      "source": [
        "def print_cricket(cricket_list):\n",
        "  for cricket in cricket_list:\n",
        "    print(\"dhoni\",cricket)\n",
        "cricket=[\"virat\",\"rohit\",\"gill\"]\n",
        "print_cricket(cricket)"
      ],
      "metadata": {
        "colab": {
          "base_uri": "https://localhost:8080/"
        },
        "id": "iQkrRusalKxH",
        "outputId": "a1c2e2d0-23bd-43af-928a-955115253991"
      },
      "execution_count": null,
      "outputs": [
        {
          "output_type": "stream",
          "name": "stdout",
          "text": [
            "dhoni virat\n",
            "dhoni rohit\n",
            "dhoni gill\n"
          ]
        }
      ]
    },
    {
      "cell_type": "code",
      "source": [
        "import matplotlib.pyplot as plt\n",
        "import numpy as np # Import numpy\n",
        "m,k=10,50.0\n",
        "omega=np.linspace(0,2,200)\n",
        "# The original error was due to multiplying arrays of different shapes (omega and t).\n",
        "# To plot x against t, x should have the same shape as t.\n",
        "# Assuming the intention is to use a single frequency from omega for this plot,\n",
        "# we'll use the first value of omega.\n",
        "# If a different calculation involving both omega and t was intended, please provide details.\n",
        "# We also need a 't' array with 1000 elements, similar to other cells in the notebook.\n",
        "fs = 1000\n",
        "t = np.linspace(0, 1, fs, endpoint=False)\n",
        "\n",
        "x=np.cos(omega[0]*t) # Use the first frequency from omega and the t array\n",
        "\n",
        "plt.plot(t,x);\n",
        "plt.xlabel(\"t\")\n",
        "plt.ylabel(\"x\")\n",
        "plt.title(\"Cosine wave\")\n",
        "plt.show()"
      ],
      "metadata": {
        "id": "Z0ZGjoTGnDxD",
        "colab": {
          "base_uri": "https://localhost:8080/",
          "height": 472
        },
        "outputId": "221f1abe-d425-48a5-939b-7604d0165487"
      },
      "execution_count": null,
      "outputs": [
        {
          "output_type": "display_data",
          "data": {
            "text/plain": [
              "<Figure size 640x480 with 1 Axes>"
            ],
            "image/png": "[encoded data removed]"
          },
          "metadata": {}
        }
      ]
    },
    {
      "cell_type": "code",
      "source": [],
      "metadata": {
        "id": "xNPOpjYAWW0-"
      },
      "execution_count": null,
      "outputs": []
    }
  ],
  "metadata": {
    "colab": {
      "provenance": []
    },
    "kernelspec": {
      "display_name": "Python 3",
      "name": "python3"
    },
    "language_info": {
      "name": "python"
    }
  },
  "nbformat": 4,
  "nbformat_minor": 0
}