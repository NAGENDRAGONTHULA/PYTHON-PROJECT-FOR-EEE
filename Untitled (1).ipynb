{
  "nbformat": 4,
  "nbformat_minor": 0,
  "metadata": {
    "colab": {
      "provenance": []
    },
    "kernelspec": {
      "name": "python3",
      "display_name": "Python 3"
    },
    "language_info": {
      "name": "python"
    }
  },
  "cells": [
    {
      "cell_type": "code",
      "source": [
        "a=10\n",
        "b=3\n",
        "print(\"addition:\",a+b)\n",
        "print(\"subtraction:\",a-b)\n",
        "print(\"multiplication:\",a*b)\n",
        "print(\"division:\",a/b)\n",
        "print(\"modulus division:\",a%b)\n",
        "print(\"floor division:\",a//b)\n",
        "print(\"exponent:\",a**b)"
      ],
      "metadata": {
        "colab": {
          "base_uri": "https://localhost:8080/"
        },
        "id": "euMdWJ2RFS_d",
        "outputId": "fb503093-502f-4010-fe93-781fafe6964f"
      },
      "execution_count": null,
      "outputs": [
        {
          "output_type": "stream",
          "name": "stdout",
          "text": [
            "addition: 13\n",
            "subtraction: 7\n",
            "multiplication: 30\n",
            "division: 3.3333333333333335\n",
            "modulus division: 1\n",
            "floor division: 3\n",
            "exponent: 1000\n"
          ]
        }
      ]
    },
    {
      "cell_type": "code",
      "source": [
        "x=5\n",
        "y=8\n",
        "print(\"x==y:\",x==y)\n",
        "print(\"x!=y:\",x!=y)\n",
        "print(\"x>y:\",x>y)\n",
        "print(\"x<y:\",x<y)\n",
        "print(\"x>=y:\",x>=y)\n",
        "print(\"x<=y:\",x<=y)"
      ],
      "metadata": {
        "colab": {
          "base_uri": "https://localhost:8080/"
        },
        "id": "TKaTZYPMJhEt",
        "outputId": "ee3daeb6-1a62-4e85-deb7-35b86b0be998"
      },
      "execution_count": null,
      "outputs": [
        {
          "output_type": "stream",
          "name": "stdout",
          "text": [
            "x==y: False\n",
            "x!=y: True\n",
            "x>y: False\n",
            "x<y: True\n",
            "x>=y: False\n",
            "x<=y: True\n"
          ]
        }
      ]
    },
    {
      "cell_type": "code",
      "source": [
        "x=5\n",
        "y=8\n",
        "print(\"x==y:\",x==y)\n",
        "print(\"x!=y:\",x!=y)\n",
        "print(\"x>y:\",x>y)\n",
        "print(\"x<y:\",x<y)\n",
        "print(\"x>=y:\",x>=y)\n",
        "print(\"x<=y:\",x<=y)"
      ],
      "metadata": {
        "colab": {
          "base_uri": "https://localhost:8080/"
        },
        "id": "dfM0IjwcHFy2",
        "outputId": "60387385-543a-45ad-d45e-7a586dda5dba"
      },
      "execution_count": null,
      "outputs": [
        {
          "output_type": "stream",
          "name": "stdout",
          "text": [
            "x==y: False\n",
            "x!=y: True\n",
            "x>y: False\n",
            "x<y: True\n",
            "x>=y: False\n",
            "x<=y: True\n"
          ]
        }
      ]
    },
    {
      "cell_type": "code",
      "source": [
        "x=5\n",
        "y=8\n",
        "print(\"x==y:\",x==y)\n",
        "print(\"x!=y:\",x!=y)\n",
        "print(\"x>y:\",x>y)\n",
        "print(\"x<y:\",x<y)\n",
        "print(\"x>=y:\",x>=y)\n",
        "print(\"x<=y:\",x<=y)"
      ],
      "metadata": {
        "colab": {
          "base_uri": "https://localhost:8080/"
        },
        "id": "hs4BI2GJJlYd",
        "outputId": "e004e812-e83f-46f5-9cff-e4f82d0fba4d"
      },
      "execution_count": null,
      "outputs": [
        {
          "output_type": "stream",
          "name": "stdout",
          "text": [
            "x==y: False\n",
            "x!=y: True\n",
            "x>y: False\n",
            "x<y: True\n",
            "x>=y: False\n",
            "x<=y: True\n"
          ]
        }
      ]
    },
    {
      "cell_type": "code",
      "source": [
        "x=5\n",
        "y=8\n",
        "print(\"x==y:\",x==y)\n",
        "print(\"x!=y:\",x!=y)\n",
        "print(\"x>y:\",x>y)\n",
        "print(\"x<y:\",x<y)\n",
        "print(\"x>=y:\",x>=y)\n",
        "print(\"x<=y:\",x<=y)"
      ],
      "metadata": {
        "colab": {
          "base_uri": "https://localhost:8080/"
        },
        "id": "NYj3re9PJnkz",
        "outputId": "4e77893d-972b-4edc-a31c-d91bb2633169"
      },
      "execution_count": null,
      "outputs": [
        {
          "output_type": "stream",
          "name": "stdout",
          "text": [
            "x==y: False\n",
            "x!=y: True\n",
            "x>y: False\n",
            "x<y: True\n",
            "x>=y: False\n",
            "x<=y: True\n"
          ]
        }
      ]
    },
    {
      "cell_type": "code",
      "source": [
        "a=10\n",
        "b=5\n",
        "print(a+b)\n",
        "print(a-b)\n",
        "print(a*b)\n",
        "print(a/b)"
      ],
      "metadata": {
        "colab": {
          "base_uri": "https://localhost:8080/"
        },
        "id": "9TaBQfmiLGUG",
        "outputId": "c54a6725-5301-4f9a-dedc-7d19dc9b1bb8"
      },
      "execution_count": null,
      "outputs": [
        {
          "output_type": "stream",
          "name": "stdout",
          "text": [
            "15\n",
            "5\n",
            "50\n",
            "2.0\n"
          ]
        }
      ]
    },
    {
      "cell_type": "code",
      "source": [
        "a=int(input(\"enter the number: \"))\n",
        "for i in range(1,11):\n",
        "  print(f\"{a}*{i}={a*i}\")"
      ],
      "metadata": {
        "colab": {
          "base_uri": "https://localhost:8080/"
        },
        "id": "gVXUmJijKp-V",
        "outputId": "2dcdecf5-c212-4b71-c8a6-e81a6516876d"
      },
      "execution_count": null,
      "outputs": [
        {
          "output_type": "stream",
          "name": "stdout",
          "text": [
            "enter the number: 5\n",
            "5*1=5\n",
            "5*2=10\n",
            "5*3=15\n",
            "5*4=20\n",
            "5*5=25\n",
            "5*6=30\n",
            "5*7=35\n",
            "5*8=40\n",
            "5*9=45\n",
            "5*10=50\n"
          ]
        }
      ]
    },
    {
      "cell_type": "code",
      "source": [
        "name=\"aswan\"\n",
        "age=18\n",
        "course=\"eletrical\"\n",
        "print(f\"\\n student info:\\nname:{name}\\nage:{age}\\ncourse:{course}\")"
      ],
      "metadata": {
        "colab": {
          "base_uri": "https://localhost:8080/"
        },
        "id": "dcDHpYfEME93",
        "outputId": "85d54e78-d71b-40fd-ea7b-8b101358ee94"
      },
      "execution_count": null,
      "outputs": [
        {
          "output_type": "stream",
          "name": "stdout",
          "text": [
            "\n",
            " student info:\n",
            "name:aswan\n",
            "age:18\n",
            "course:eletrical\n"
          ]
        }
      ]
    },
    {
      "cell_type": "code",
      "source": [
        "a=int(input(\"enter the number:\"))\n",
        "b=int(input(\"enter the number:\"))\n",
        "print(f\"a+=5:{a+=5}\")\n",
        "print(f\"a-=5:{a-=3}\")\n",
        "print(f\"a*=5:{a*=5}\")\n",
        "print(f\"a/=5:{a/=5}\")\n",
        "print(f\"a%=5:{a%=5}\")\n",
        "\n"
      ],
      "metadata": {
        "colab": {
          "base_uri": "https://localhost:8080/"
        },
        "id": "-1HI0YZUPRJy",
        "outputId": "efb90118-6a0a-40c4-99fc-44a255f7a97c"
      },
      "execution_count": null,
      "outputs": [
        {
          "output_type": "stream",
          "name": "stdout",
          "text": [
            "enter the number:5\n",
            "enter the number:4\n",
            "a+=5:10\n",
            "a-=3:2\n",
            "a*=5:25\n",
            "a/=5:1.0\n",
            "a%=5:0\n"
          ]
        }
      ]
    },
    {
      "cell_type": "code",
      "source": [
        "# Method 1: Using a temporary variable\n",
        "x = 10\n",
        "y = 5\n",
        "print(f\"Before swapping (using temp variable): x = {x}, y = {y}\")\n",
        "\n",
        "temp = x\n",
        "x = y\n",
        "y = temp\n",
        "print(f\"After swapping (using temp variable): x = {x}, y = {y}\")\n",
        "\n",
        "# Method 2: Using tuple packing and unpacking (Pythonic way)\n",
        "a = 20\n",
        "b = 15\n",
        "print(f\"\\nBefore swapping (using tuple): a = {a}, b = {b}\")\n",
        "\n",
        "a, b = b, a\n",
        "print(f\"After swapping (using tuple): a = {a}, b = {b}\")"
      ],
      "metadata": {
        "colab": {
          "base_uri": "https://localhost:8080/"
        },
        "id": "oRRmxGZ4d4nY",
        "outputId": "f130db95-9c56-4c37-f62d-a7ba63cf2297"
      },
      "execution_count": null,
      "outputs": [
        {
          "output_type": "stream",
          "name": "stdout",
          "text": [
            "Before swapping (using temp variable): x = 10, y = 5\n",
            "After swapping (using temp variable): x = 5, y = 10\n",
            "\n",
            "Before swapping (using tuple): a = 20, b = 15\n",
            "After swapping (using tuple): a = 15, b = 20\n"
          ]
        }
      ]
    },
    {
      "cell_type": "code",
      "source": [
        "name=\"aswan\"\n",
        "age=17\n",
        "course=\"mechanical\"\n",
        "print(f\"\\n student info:\\nname:{name}\\nage:{age}\\n\n",
        "course:{corse}\")"
      ],
      "metadata": {
        "id": "utOCb31ANH4U"
      },
      "execution_count": null,
      "outputs": []
    },
    {
      "cell_type": "code",
      "source": [
        "a=int(input(\"enter the number:\"))\n",
        "b=int(input(\"enter the number:\"))\n",
        "print(f\"a&b:{a&b}\")\n",
        "print(f\"a|b:{a|b}\")\n",
        "print(f\"a^b:{a^b}\")\n",
        "print(f\"a~b:{a~b}\")\n",
        "print(f\"a<<b:{a<<b}\")\n",
        "print(f\"a>>b:{a>>b}\")"
      ],
      "metadata": {
        "colab": {
          "base_uri": "https://localhost:8080/",
          "height": 106
        },
        "id": "aJj2e1VoSWwr",
        "outputId": "371035a3-48c2-4479-a7ea-9832d129a80a"
      },
      "execution_count": null,
      "outputs": [
        {
          "output_type": "error",
          "ename": "SyntaxError",
          "evalue": "f-string: invalid syntax. Perhaps you forgot a comma? (ipython-input-2838099693.py, line 6)",
          "traceback": [
            "\u001b[0;36m  File \u001b[0;32m\"/tmp/ipython-input-2838099693.py\"\u001b[0;36m, line \u001b[0;32m6\u001b[0m\n\u001b[0;31m    print(f\"a~b:{a~b}\")\u001b[0m\n\u001b[0m     ^\u001b[0m\n\u001b[0;31mSyntaxError\u001b[0m\u001b[0;31m:\u001b[0m f-string: invalid syntax. Perhaps you forgot a comma?\n"
          ]
        }
      ]
    },
    {
      "cell_type": "code",
      "source": [
        "fruits=[\"apple\",\"banana\",\"cherry\"]\n",
        "print(\"banana in fruits:\",\"banana\" in fruits)\n",
        "print(\"mango not in fruits:\",\"mango\" not in fruits)\n",
        "print(\"mango in fruits:\",\"mango\" in fruits)"
      ],
      "metadata": {
        "colab": {
          "base_uri": "https://localhost:8080/"
        },
        "id": "GWamitmbUeSD",
        "outputId": "1445e50a-e592-4c3c-fa4a-8ef13a218aea"
      },
      "execution_count": null,
      "outputs": [
        {
          "output_type": "stream",
          "name": "stdout",
          "text": [
            "banana in fruits: True\n",
            "mango not in fruits: True\n",
            "mango in fruits: False\n"
          ]
        }
      ]
    },
    {
      "cell_type": "code",
      "source": [
        "a=int(input(\"enter a number\"))\n",
        "b=int(input(\"enter b number\"))\n",
        "print(\"a and b:\",a and b)\n",
        "print(\"a or b:\",a or b)\n",
        "print(\" not b:\",not b)\n",
        "print(\"not a:\",not a)"
      ],
      "metadata": {
        "colab": {
          "base_uri": "https://localhost:8080/"
        },
        "id": "1YFiezqvV7a7",
        "outputId": "1bcd2f34-1a28-4399-d59a-4a9c0c4cb334"
      },
      "execution_count": null,
      "outputs": [
        {
          "output_type": "stream",
          "name": "stdout",
          "text": [
            "enter a number0\n",
            "enter b number1\n",
            "a and b: 0\n",
            "a or b: 1\n",
            " not b: False\n",
            "not a: True\n"
          ]
        }
      ]
    },
    {
      "cell_type": "code",
      "source": [
        "weight=float(input(\"enter weight(kg)\"))\n",
        "height=float(input(\"enter height(cm)\"))\n",
        "bmi=weight/(height**2)\n",
        "print(\"bmi:\",bmi)\n",
        "if bmi<18.5:\n",
        "  print(\"under weight\")\n",
        "elif bmi<24.9:\n",
        "  print(\"normal weight\")\n",
        "elif bmi<29.9:\n",
        "  print(\"over weight\")\n",
        "else:\n",
        "  print(\"obsuse\")"
      ],
      "metadata": {
        "colab": {
          "base_uri": "https://localhost:8080/"
        },
        "id": "RXdodBUTe1Ap",
        "outputId": "289dd282-a287-4608-ff45-6daf0611c337"
      },
      "execution_count": null,
      "outputs": [
        {
          "output_type": "stream",
          "name": "stdout",
          "text": [
            "enter weight(kg)155\n",
            "enter height(cm)55\n",
            "bmi: 0.0512396694214876\n",
            "under weight\n"
          ]
        }
      ]
    },
    {
      "cell_type": "code",
      "source": [
        "def factorial(n):\n",
        "  \"\"\"Calculates the factorial of a non-negative integer using recursion.\"\"\"\n",
        "  if n == 0:\n",
        "    return 1\n",
        "  else:\n",
        "    return n * factorial(n-1)\n",
        "\n",
        "# Example usage:\n",
        "num = 5\n",
        "print(f\"The factorial of {num} is {factorial(num)}\")"
      ],
      "metadata": {
        "colab": {
          "base_uri": "https://localhost:8080/"
        },
        "id": "Xe1gHzJkm2I4",
        "outputId": "3e3f1c1d-a342-4135-b624-90bb10b61b1e"
      },
      "execution_count": null,
      "outputs": [
        {
          "output_type": "stream",
          "name": "stdout",
          "text": [
            "The factorial of 5 is 120\n"
          ]
        }
      ]
    },
    {
      "cell_type": "code",
      "source": [
        "import numpy as np\n",
        "\n",
        "\n",
        "array1 = np.array([[1, 2], [3, 4]])\n",
        "array2 = np.array([[5, 6], [7, 8]])\n",
        "\n",
        "print(\"Array 1:\\n\", array1)\n",
        "print(\"Array 2:\\n\", array2)\n",
        "element_wise_multiplication = array1 * array2\n",
        "print(\"\\nElement-wise multiplication:\\n\", element_wise_multiplication)\n",
        "\n",
        "matrix_multiplication = array1 @ array2  # or np.dot(array1, array2)\n",
        "print(\"\\nMatrix multiplication:\\n\", matrix_multiplication)"
      ],
      "metadata": {
        "colab": {
          "base_uri": "https://localhost:8080/"
        },
        "id": "bEorc0xPnj2w",
        "outputId": "3e23c33d-ea83-4d8f-d9ab-d5caeaee134d"
      },
      "execution_count": null,
      "outputs": [
        {
          "output_type": "stream",
          "name": "stdout",
          "text": [
            "Array 1:\n",
            " [[1 2]\n",
            " [3 4]]\n",
            "Array 2:\n",
            " [[5 6]\n",
            " [7 8]]\n",
            "\n",
            "Element-wise multiplication:\n",
            " [[ 5 12]\n",
            " [21 32]]\n",
            "\n",
            "Matrix multiplication:\n",
            " [[19 22]\n",
            " [43 50]]\n"
          ]
        }
      ]
    }
  ]
}